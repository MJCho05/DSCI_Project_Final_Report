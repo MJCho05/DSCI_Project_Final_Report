{
 "cells": [
  {
   "cell_type": "code",
   "execution_count": null,
   "id": "593c55bd-076b-42ee-9612-588fa13d6726",
   "metadata": {},
   "outputs": [],
   "source": [
    "rats"
   ]
  }
 ],
 "metadata": {
  "kernelspec": {
   "display_name": "R",
   "language": "R",
   "name": "ir"
  },
  "language_info": {
   "codemirror_mode": "r",
   "file_extension": ".r",
   "mimetype": "text/x-r-source",
   "name": "R",
   "pygments_lexer": "r",
   "version": "4.3.3"
  }
 },
 "nbformat": 4,
 "nbformat_minor": 5
}
